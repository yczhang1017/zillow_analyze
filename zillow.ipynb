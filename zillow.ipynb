{
 "cells": [
  {
   "cell_type": "markdown",
   "metadata": {},
   "source": [
    "We propose a projetct on the Zillow real estate data from Quantl.com:\n",
    "    https://www.quandl.com/data/ZILLOW-Zillow-Real-Estate-Research\n",
    "\n",
    "The following code get the Median Listing Price (All Homes) for 5 states between 2010-01-31 and 2019-01-31"
   ]
  },
  {
   "cell_type": "code",
   "execution_count": null,
   "metadata": {},
   "outputs": [],
   "source": [
    "import quandl\n",
    "import pandas as pd\n",
    "import matplotlib.pyplot as plt\n",
    "\n",
    "code_state = {\n",
    "2:'Alaska',\n",
    "3:'Alabama',\n",
    "4:'Arkansas',\n",
    "5:'Arizona',\n",
    "6:'California'}\n",
    "\n",
    "indicators = ['MLPFAH'] # MLPAH is Median Listing Price - All Homes\n",
    "flag = 0\n",
    "\n",
    "'''\n",
    "Download data from Quantl using python API\n",
    "output dataframe is df has 5 columns of states\n",
    "'''\n",
    "\n",
    "for s,state in code_state.items():\n",
    "    for ind in indicators:\n",
    "        if not flag: # if df is not assigned\n",
    "            flag = 1\n",
    "            df = quandl.get('ZILLOW/S'+str(s)+'_'+ind, start_date='2010-01-31', end_date='2019-01-31') \n",
    "            df.rename(columns={'Value':state}, inplace=True)\n",
    "        df[state] = quandl.get('ZILLOW/S'+str(s)+'_'+ind, start_date='2010-01-31', end_date='2019-01-31')\n",
    "        \n",
    "plt.plot(df)\n",
    "plt.legend(code_state.values())\n",
    "plt.show()"
   ]
  },
  {
   "cell_type": "code",
   "execution_count": null,
   "metadata": {},
   "outputs": [],
   "source": []
  }
 ],
 "metadata": {
  "kernelspec": {
   "display_name": "Python 3",
   "language": "python",
   "name": "python3"
  },
  "language_info": {
   "codemirror_mode": {
    "name": "ipython",
    "version": 3
   },
   "file_extension": ".py",
   "mimetype": "text/x-python",
   "name": "python",
   "nbconvert_exporter": "python",
   "pygments_lexer": "ipython3",
   "version": "3.6.5"
  }
 },
 "nbformat": 4,
 "nbformat_minor": 2
}
